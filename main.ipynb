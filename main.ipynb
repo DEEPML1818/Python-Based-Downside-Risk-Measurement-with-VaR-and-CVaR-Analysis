{
 "cells": [
  {
   "cell_type": "code",
   "execution_count": null,
   "metadata": {},
   "outputs": [],
   "source": [
    "import pandas as pd\n",
    "import numpy as np\n",
    "import matplotlib.pyplot as plt\n",
    "from scipy.stats import norm\n",
    "from tabulate import tabulate\n",
    "import yfinance as yf\n",
    "%matplotlib inline\n",
    "\n",
    "ticker= \"tsla\"\n",
    "stock_data = yf.download(ticker, start=\"2016-01-04\", end=\"2021-06-25\")\n",
    "stock_data.head()\n",
    "daily_close_pct_change = stock_data['Adj Close'].pct_change()\n",
    "wealth_index = 1000 * (1 + daily_close_pct_change).cumprod()\n",
    "previous_peaks = wealth_index.cummax()\n",
    "drawdown = (wealth_index - previous_peaks) / previous_peaks\n",
    "drawdown.plot()\n",
    "daily_close_pct_change.sort_values(inplace=True, ascending=True)\n",
    "\n",
    "VaR_90 = daily_close_pct_change.quantile(0.1)\n",
    "VaR_95 = daily_close_pct_change.quantile(0.05)\n",
    "VaR_99 = daily_close_pct_change.quantile(0.01)\n",
    "\n",
    "print(tabulate([['90%', VaR_90], ['95%', VaR_95], ['99%', VaR_99]], headers=['Confidence Level', 'Value at Risk']))\n",
    "\n",
    "CVaR_90 = daily_close_pct_change[daily_close_pct_change <= VaR_90].mean()\n",
    "CVaR_95 = daily_close_pct_change[daily_close_pct_change <= VaR_95].mean()\n",
    "CVaR_99 = daily_close_pct_change[daily_close_pct_change <= VaR_99].mean()\n",
    "\n",
    "print(tabulate([['90%', CVaR_90], ['95%', CVaR_95], ['99%', CVaR_99]], headers=['Confidence Level', 'Conditional Value at Risk (Expected Loss)']))"
   ]
  }
 ],
 "metadata": {
  "language_info": {
   "name": "python"
  },
  "orig_nbformat": 4
 },
 "nbformat": 4,
 "nbformat_minor": 2
}
